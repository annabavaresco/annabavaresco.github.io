{
 "cells": [
  {
   "cell_type": "code",
   "execution_count": 9,
   "metadata": {},
   "outputs": [
    {
     "data": {
      "text/plain": [
       "array([[6.12276766, 6.18599612]])"
      ]
     },
     "execution_count": 9,
     "metadata": {},
     "output_type": "execute_result"
    }
   ],
   "source": [
    "from sklearn.preprocessing import StandardScaler\n",
    "from sklearn.cross_decomposition import PLSRegression\n",
    "\n",
    "X = [[0., 0., 1.], [1.,0.,0.], [2.,2.,2.], [2.,5.,4.]]\n",
    "Y = [[0.1, -0.2], [0.9, 1.1], [6.2, 5.9], [11.9, 12.3]]\n",
    "\n",
    "# create a StandardScaler object to scale the target variable\n",
    "scaler_x = StandardScaler()\n",
    "scaler_y = StandardScaler()\n",
    "\n",
    "# fit and transform the target variable\n",
    "scaled_x = scaler_x.fit_transform(X)\n",
    "scaled_y = scaler_y.fit_transform(Y)\n",
    "# print(scaled_data.shape)\n",
    "\n",
    "# create a PLSRegression object and fit the model\n",
    "pls = PLSRegression(n_components=2,scale=False)\n",
    "pls.fit(scaled_x, scaled_y)\n",
    "\n",
    "# make a prediction on a new data point\n",
    "X_new = [[1, 2, 3]]\n",
    "y_pred_scaled = pls.predict(scaler_x.transform(X_new))\n",
    "\n",
    "# apply the inverse scaling transformation to the predicted value\n",
    "y_pred = scaler_y.inverse_transform(y_pred_scaled)\n",
    "y_pred"
   ]
  },
  {
   "cell_type": "code",
   "execution_count": 8,
   "metadata": {},
   "outputs": [
    {
     "data": {
      "text/plain": [
       "array([[6.12276766, 6.18599612]])"
      ]
     },
     "execution_count": 8,
     "metadata": {},
     "output_type": "execute_result"
    }
   ],
   "source": [
    "from sklearn.preprocessing import StandardScaler\n",
    "from sklearn.cross_decomposition import PLSRegression\n",
    "\n",
    "X = [[0., 0., 1.], [1.,0.,0.], [2.,2.,2.], [2.,5.,4.]]\n",
    "Y = [[0.1, -0.2], [0.9, 1.1], [6.2, 5.9], [11.9, 12.3]]\n",
    "# pls2 = PLSRegression(n_components=2)\n",
    "# pls2.fit(X, Y)\n",
    "# PLSRegression()\n",
    "# Y_pred = pls2.predict(X)\n",
    "\n",
    "# create a StandardScaler object to scale the target variable\n",
    "# scaler_x = StandardScaler()\n",
    "# scaler_y = StandardScaler()\n",
    "\n",
    "# fit and transform the target variable\n",
    "# scaled_x = scaler_x.fit_transform(X)\n",
    "# scaled_y = scaler_y.fit_transform(Y)\n",
    "# print(scaled_data.shape)\n",
    "\n",
    "# create a PLSRegression object and fit the model\n",
    "pls = PLSRegression(n_components=2,scale=True)\n",
    "pls.fit(X, Y)\n",
    "\n",
    "# make a prediction on a new data point\n",
    "X_new = [[1, 2, 3]]\n",
    "y_pred_scaled = pls.predict(X_new)\n",
    "y_pred_scaled\n",
    "\n",
    "# apply the inverse scaling transformation to the predicted value\n",
    "# y_pred = scaler_y.inverse_transform(y_pred_scaled)"
   ]
  }
 ],
 "metadata": {
  "kernelspec": {
   "display_name": "pruning",
   "language": "python",
   "name": "python3"
  },
  "language_info": {
   "codemirror_mode": {
    "name": "ipython",
    "version": 3
   },
   "file_extension": ".py",
   "mimetype": "text/x-python",
   "name": "python",
   "nbconvert_exporter": "python",
   "pygments_lexer": "ipython3",
   "version": "3.10.4"
  },
  "orig_nbformat": 4
 },
 "nbformat": 4,
 "nbformat_minor": 2
}
